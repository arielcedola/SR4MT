{
 "cells": [
  {
   "cell_type": "code",
   "execution_count": 6,
   "metadata": {},
   "outputs": [],
   "source": [
    "import azure.cognitiveservices.speech as speechsdk\n",
    "import time"
   ]
  },
  {
   "cell_type": "code",
   "execution_count": 7,
   "metadata": {},
   "outputs": [],
   "source": [
    "# Creates an instance of a speech config with specified subscription key and service region.\n",
    "# Replace with your own subscription key and service region (e.g., \"westus\").\n",
    "speech_key, service_region = \"your-key\", \"your-region\"\n",
    "speech_config = speechsdk.SpeechConfig(subscription=speech_key, region=service_region, speech_recognition_language=\"it-IT\")"
   ]
  },
  {
   "cell_type": "code",
   "execution_count": 8,
   "metadata": {},
   "outputs": [
    {
     "name": "stdout",
     "output_type": "stream",
     "text": [
      "Say a few words\n",
      "\n",
      "\n",
      "SESSION STARTED: <class 'azure.cognitiveservices.speech.SessionEventArgs'>:(session_id=e94361cd8295442db844ca5d8f4d2458)\n",
      "\n",
      "Il riconoscimento vocale e stato un successo.\n",
      "\n",
      "SESSION STOPPED <class 'azure.cognitiveservices.speech.SessionEventArgs'>:(session_id=e94361cd8295442db844ca5d8f4d2458)\n"
     ]
    }
   ],
   "source": [
    "# Creates a recognizer with the given settings\n",
    "speech_recognizer = speechsdk.SpeechRecognizer(speech_config=speech_config)\n",
    "\n",
    "# Callback functions\n",
    "speech_recognizer.session_started.connect(lambda evt: print('SESSION STARTED: {}'.format(evt)))\n",
    "speech_recognizer.session_stopped.connect(lambda evt: print('\\nSESSION STOPPED {}'.format(evt)))\n",
    "speech_recognizer.recognized.connect(lambda evt: print('\\n{}'.format(evt.result.text)))\n",
    "\n",
    "print('Say a few words\\n\\n')\n",
    "\n",
    "speech_recognizer.start_continuous_recognition()\n",
    "\n",
    "time.sleep(10)\n",
    "\n",
    "speech_recognizer.stop_continuous_recognition()\n",
    "\n",
    "speech_recognizer.session_started.disconnect_all()\n",
    "speech_recognizer.recognized.disconnect_all()\n",
    "speech_recognizer.session_stopped.disconnect_all()"
   ]
  }
 ],
 "metadata": {
  "kernelspec": {
   "display_name": "Python 3",
   "language": "python",
   "name": "python3"
  },
  "language_info": {
   "codemirror_mode": {
    "name": "ipython",
    "version": 3
   },
   "file_extension": ".py",
   "mimetype": "text/x-python",
   "name": "python",
   "nbconvert_exporter": "python",
   "pygments_lexer": "ipython3",
   "version": "3.6.3"
  }
 },
 "nbformat": 4,
 "nbformat_minor": 2
}
